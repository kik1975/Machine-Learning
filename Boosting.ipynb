{
 "cells": [
  {
   "cell_type": "code",
   "execution_count": 1,
   "id": "73e40436",
   "metadata": {},
   "outputs": [
    {
     "name": "stderr",
     "output_type": "stream",
     "text": [
      "C:\\ProgramData\\Anaconda3\\lib\\site-packages\\sklearn\\utils\\deprecation.py:87: FutureWarning: Function load_boston is deprecated; `load_boston` is deprecated in 1.0 and will be removed in 1.2.\n",
      "\n",
      "    The Boston housing prices dataset has an ethical problem. You can refer to\n",
      "    the documentation of this function for further details.\n",
      "\n",
      "    The scikit-learn maintainers therefore strongly discourage the use of this\n",
      "    dataset unless the purpose of the code is to study and educate about\n",
      "    ethical issues in data science and machine learning.\n",
      "\n",
      "    In this special case, you can fetch the dataset from the original\n",
      "    source::\n",
      "\n",
      "        import pandas as pd\n",
      "        import numpy as np\n",
      "\n",
      "\n",
      "        data_url = \"http://lib.stat.cmu.edu/datasets/boston\"\n",
      "        raw_df = pd.read_csv(data_url, sep=\"\\s+\", skiprows=22, header=None)\n",
      "        data = np.hstack([raw_df.values[::2, :], raw_df.values[1::2, :2]])\n",
      "        target = raw_df.values[1::2, 2]\n",
      "\n",
      "    Alternative datasets include the California housing dataset (i.e.\n",
      "    :func:`~sklearn.datasets.fetch_california_housing`) and the Ames housing\n",
      "    dataset. You can load the datasets as follows::\n",
      "\n",
      "        from sklearn.datasets import fetch_california_housing\n",
      "        housing = fetch_california_housing()\n",
      "\n",
      "    for the California housing dataset and::\n",
      "\n",
      "        from sklearn.datasets import fetch_openml\n",
      "        housing = fetch_openml(name=\"house_prices\", as_frame=True)\n",
      "\n",
      "    for the Ames housing dataset.\n",
      "    \n",
      "  warnings.warn(msg, category=FutureWarning)\n"
     ]
    }
   ],
   "source": [
    "from sklearn import datasets\n",
    "boston_data = datasets.load_boston()\n",
    "\n",
    "X = boston_data.data\n",
    "y = boston_data.target\n"
   ]
  },
  {
   "cell_type": "code",
   "execution_count": 2,
   "id": "c7a04fde",
   "metadata": {},
   "outputs": [],
   "source": [
    "from sklearn.model_selection import train_test_split\n",
    "X_train, X_test, y_train, y_test = train_test_split(X, y, train_size = 0.75, shuffle=False)\n"
   ]
  },
  {
   "cell_type": "code",
   "execution_count": 3,
   "id": "659a5146",
   "metadata": {},
   "outputs": [],
   "source": [
    "def gbm_predict(X): \n",
    "    return [sum([coeff * algo.predict([x])[0] for algo, coeff in zip(base_algorithms_list, coefficients_list)]) for x in X]\n",
    "\n",
    "def L(y, z):\n",
    "    return (z - y)\n"
   ]
  },
  {
   "cell_type": "markdown",
   "id": "9f3ff8e8",
   "metadata": {},
   "source": [
    "## Задание 6.4.2"
   ]
  },
  {
   "cell_type": "code",
   "execution_count": 6,
   "id": "cc2579d2",
   "metadata": {},
   "outputs": [
    {
     "name": "stdout",
     "output_type": "stream",
     "text": [
      "5.3174600019002005 28.275380871808476\n"
     ]
    }
   ],
   "source": [
    "import numpy as np\n",
    "from sklearn import tree\n",
    "from sklearn import metrics\n",
    "base_algorithms_list = []\n",
    "coefficients_list = []\n",
    "y_cur = np.array(y_train)\n",
    "for i in range(50):\n",
    "    regressor = tree.DecisionTreeRegressor(max_depth=5, random_state=139).fit(X_train, y_cur)\n",
    "    base_algorithms_list.append(regressor)\n",
    "    coefficients_list.append(0.9)\n",
    "    \n",
    "    y_cur = L(gbm_predict(X_train), y_train)\n",
    "    \n",
    "mse = metrics.mean_squared_error(y_test, gbm_predict(X_test))\n",
    "rmse = np.sqrt(mse)\n",
    "print (rmse, mse)"
   ]
  },
  {
   "cell_type": "markdown",
   "id": "e8cd1323",
   "metadata": {},
   "source": [
    "## Задание 6.4.3"
   ]
  },
  {
   "cell_type": "code",
   "execution_count": 5,
   "id": "ac07b892",
   "metadata": {},
   "outputs": [
    {
     "name": "stdout",
     "output_type": "stream",
     "text": [
      "4.7573286275179205 22.632175670201544\n"
     ]
    }
   ],
   "source": [
    "base_algorithms_list = []\n",
    "coefficients_list = []\n",
    "y_cur = np.array(y_train)\n",
    "for i in range(50):\n",
    "    regressor = tree.DecisionTreeRegressor(max_depth=5, random_state=139).fit(X_train, y_cur)\n",
    "    base_algorithms_list.append(regressor)\n",
    "    coefficients_list.append(0.9 / (1.0 + i))\n",
    "    \n",
    "    y_cur = L(gbm_predict(X_train), y_train)\n",
    "    \n",
    "mse = metrics.mean_squared_error(y_test, gbm_predict(X_test))\n",
    "rmse = np.sqrt(mse)\n",
    "print (rmse, mse)"
   ]
  },
  {
   "cell_type": "markdown",
   "id": "0cd8f168",
   "metadata": {},
   "source": [
    "## Задание 6.4.5"
   ]
  },
  {
   "cell_type": "code",
   "execution_count": 8,
   "id": "beca97d2",
   "metadata": {},
   "outputs": [
    {
     "name": "stdout",
     "output_type": "stream",
     "text": [
      "8.254979753549161 68.14469073150657\n"
     ]
    }
   ],
   "source": [
    "from sklearn.linear_model import LinearRegression\n",
    "myModel = LinearRegression() #Обозначаем, что наша модель - линейная регрессия\n",
    "myModel.fit(X_train,y_train) #обучаем модель на обучающих данных\n",
    "mse = metrics.mean_squared_error(y_test, myModel.predict(X_test))\n",
    "rmse = np.sqrt(mse)\n",
    "print (rmse, mse)"
   ]
  },
  {
   "cell_type": "code",
   "execution_count": null,
   "id": "2009418a",
   "metadata": {},
   "outputs": [],
   "source": []
  }
 ],
 "metadata": {
  "kernelspec": {
   "display_name": "Python 3 (ipykernel)",
   "language": "python",
   "name": "python3"
  },
  "language_info": {
   "codemirror_mode": {
    "name": "ipython",
    "version": 3
   },
   "file_extension": ".py",
   "mimetype": "text/x-python",
   "name": "python",
   "nbconvert_exporter": "python",
   "pygments_lexer": "ipython3",
   "version": "3.9.12"
  }
 },
 "nbformat": 4,
 "nbformat_minor": 5
}
